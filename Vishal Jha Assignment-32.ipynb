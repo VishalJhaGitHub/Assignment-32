{
 "cells": [
  {
   "cell_type": "code",
   "execution_count": 1,
   "id": "4fa7163c-9d54-4880-b82b-51d075a15b20",
   "metadata": {},
   "outputs": [],
   "source": [
    "#1. What is the Probability density function?\n",
    "\n",
    "#Ans\n",
    "\n",
    "#The probability density function (PDF) is a mathematical function that describes the probability distribution of a continuous random variable. The PDF is a function that, for any given value of the random variable, gives the relative likelihood of observing that value.\n",
    "\n",
    "#The PDF is defined such that the integral of the function over the entire range of the random variable is equal to 1. This means that the total probability of observing any value of the random variable is 1. The PDF can take different forms depending on the specific distribution being described.\n",
    "\n",
    "#The PDF is a fundamental concept in probability theory and statistics, and is used to calculate various quantities such as the expected value, variance, and moments of a continuous random variable. It is also used to make predictions about the likelihood of future events based on past observations."
   ]
  },
  {
   "cell_type": "code",
   "execution_count": 2,
   "id": "c09196ef-13f0-4249-aaed-debf0cf53337",
   "metadata": {},
   "outputs": [],
   "source": [
    "#2. What are the types of Probability distribution?\n",
    "\n",
    "#Ans\n",
    "\n",
    "#1 - Normal distribution: Also known as the Gaussian distribution, it is one of the most widely used probability distributions. It has a bell-shaped curve and is characterized by its mean and standard deviation.\n",
    "\n",
    "#2 - Binomial distribution: Used to model the probability of a binary outcome, such as the success or failure of an event.\n",
    "\n",
    "#3 - Poisson distribution: Used to model the probability of rare events occurring, such as the number of customers arriving at a store in a given time interval.\n",
    "\n",
    "#4 - Exponential distribution: Used to model the time between rare events occurring, such as the time between customer arrivals at a store.\n",
    "\n",
    "#5 - Uniform distribution: Used when all values within a given range have an equal probability of occurring.\n",
    "\n",
    "#6 - Gamma distribution: Used to model the distribution of positive continuous variables, such as the time it takes to complete a task.\n",
    "\n",
    "#7 - Chi-squared distribution: Used to test the independence of variables or to test goodness of fit of a distribution.\n",
    "\n",
    "#8 - Student's t-distribution: Used to model the distribution of a sample mean when the population standard deviation is unknown."
   ]
  },
  {
   "cell_type": "code",
   "execution_count": 1,
   "id": "42922f48-53b5-475b-b5e7-b51ecf4ecf32",
   "metadata": {},
   "outputs": [
    {
     "name": "stdout",
     "output_type": "stream",
     "text": [
      "0.24197072451914337\n"
     ]
    }
   ],
   "source": [
    "#3. Write a Python function to calculate the probability density function of a normal distribution with given mean and standard deviation at a given point.\n",
    "\n",
    "#Ans\n",
    "\n",
    "import scipy.stats as stats\n",
    "def normal_pdf(x, mean, std_dev):\n",
    "    \"\"\"\n",
    "    Calculates the probability density function of a normal distribution at a given point x,\n",
    "    with the given mean and standard deviation.\n",
    "    \"\"\"\n",
    "    pdf = stats.norm.pdf(x, loc=mean, scale=std_dev)\n",
    "    return pdf\n",
    "# Example usage\n",
    "mean = 0\n",
    "std_dev = 1\n",
    "x = 1\n",
    "pdf_value = normal_pdf(x, mean, std_dev)\n",
    "print(pdf_value)"
   ]
  },
  {
   "cell_type": "code",
   "execution_count": 2,
   "id": "4a510682-07cb-457d-b9cd-30c8493b6ebd",
   "metadata": {},
   "outputs": [],
   "source": [
    "#4. What are the properties of Binomial distribution? Give two examples of events where binomial distribution can be applied.\n",
    "\n",
    "#Ans\n",
    "\n",
    "#The binomial distribution is a probability distribution that describes the number of successes in a fixed number of independent trials with a constant probability of success for each trial. The following are some of the properties of the binomial distribution:\n",
    "\n",
    "#1 - The number of trials is fixed.\n",
    "#2 - Each trial is independent.\n",
    "#3 - There are only two possible outcomes in each trial - success or failure.\n",
    "#4 - The probability of success is constant for each trial.\n",
    "#5 - The random variable X that represents the number of successes follows a binomial distribution.\n",
    "\n",
    "#Two examples of events where binomial distribution can be applied are:\n",
    "\n",
    "#1 - Tossing a coin: Suppose you toss a fair coin 10 times and you want to find the probability of getting exactly 5 heads. Each toss is independent, and there are only two possible outcomes - heads or tails. The probability of getting heads is 0.5 for each toss. This is an example of a binomial distribution with n = 10 and p = 0.5.\n",
    "\n",
    "#2 - Manufacturing defects: A manufacturer produces a large number of items, and each item has a certain probability of being defective. Suppose you want to find the probability of having exactly 3 defective items in a sample of 10 items. Each item is independent, and there are only two possible outcomes - defective or non-defective. The probability of an item being defective is constant for each item. This is an example of a binomial distribution with n = 10 and p = the probability of an item being defective."
   ]
  },
  {
   "cell_type": "code",
   "execution_count": 3,
   "id": "33a939d6-19ff-4399-9858-6e139dc543fc",
   "metadata": {},
   "outputs": [
    {
     "data": {
      "image/png": "[encoded data removed]",
      "text/plain": [
       "<Figure size 640x480 with 1 Axes>"
      ]
     },
     "metadata": {},
     "output_type": "display_data"
    }
   ],
   "source": [
    "#5. Generate a random sample of size 1000 from a binomial distribution with probability of success 0.4 and plot a histogram of the results using matplotlib.\n",
    "\n",
    "#Ans\n",
    "\n",
    "import numpy as np\n",
    "import matplotlib.pyplot as plt\n",
    "# Set the parameters for the binomial distribution\n",
    "n = 1000  # sample size\n",
    "p = 0.4  # probability of success\n",
    "# Generate a random sample of size 1000 from the binomial distribution\n",
    "sample = np.random.binomial(n, p, size=1000)\n",
    "# Plot a histogram of the sample using matplotlib\n",
    "plt.hist(sample, bins=range(n+1))\n",
    "plt.xlabel('Number of successes')\n",
    "plt.ylabel('Frequency')\n",
    "plt.title('Histogram of binomial distribution with n=1000, p=0.4')\n",
    "plt.show()"
   ]
  },
  {
   "cell_type": "code",
   "execution_count": 4,
   "id": "e583a300-4a40-4fb2-9ba7-b719efeba0c2",
   "metadata": {},
   "outputs": [
    {
     "name": "stdout",
     "output_type": "stream",
     "text": [
      "The cumulative distribution function of a Poisson distribution with mean 2.5 at point 4 is 0.8912\n"
     ]
    }
   ],
   "source": [
    "#6. Write a Python function to calculate the cumulative distribution function of a Poisson distribution with given mean at a given point.\n",
    "\n",
    "#Ans\n",
    "\n",
    "import math\n",
    "def poisson_cdf(mean, point):\n",
    "    cdf = 0.0\n",
    "    for i in range(point + 1):\n",
    "        cdf += math.exp(-mean) * (mean ** i) / math.factorial(i)\n",
    "    return cdf\n",
    "# Example usage\n",
    "mean = 2.5\n",
    "point = 4\n",
    "cdf = poisson_cdf(mean, point)\n",
    "print(f\"The cumulative distribution function of a Poisson distribution with mean {mean} at point {point} is {cdf:.4f}\")"
   ]
  },
  {
   "cell_type": "code",
   "execution_count": 1,
   "id": "d3b9ed66-f58e-4676-9cb6-8f1190cac30e",
   "metadata": {},
   "outputs": [],
   "source": [
    "#7. How Binomial distribution different from Poisson distribution?\n",
    "\n",
    "#Ans\n",
    "\n",
    "#The binomial distribution models the number of successes in a fixed number of independent trials, where each trial has a constant probability of success. For example, flipping a fair coin 10 times and counting the number of heads is a binomial distribution. The binomial distribution has two parameters: the probability of success (p) and the number of trials (n).\n",
    "\n",
    "#The Poisson distribution models the number of events that occur in a fixed interval of time or space, where the events occur randomly and independently of each other. For example, the number of customers who enter a store in an hour or the number of cars that pass through a point on a road in a day can be modeled by a Poisson distribution. The Poisson distribution has one parameter, lambda (λ), which represents the average number of events per interval.\n",
    "\n",
    "#1 - The binomial distribution models the number of successes in a fixed number of trials with a constant probability of success, while the Poisson distribution models the number of events in a fixed interval of time or space with a random and independent occurrence.\n",
    "\n",
    "#2 - The binomial distribution has two parameters, the probability of success and the number of trials, while the Poisson distribution has one parameter, the average rate of occurrence."
   ]
  },
  {
   "cell_type": "code",
   "execution_count": 2,
   "id": "7c0f7a61-ddf5-4048-8667-f4d6432be14c",
   "metadata": {},
   "outputs": [
    {
     "name": "stdout",
     "output_type": "stream",
     "text": [
      "Sample mean: 4.985\n",
      "Sample variance: 4.9967749999999995\n"
     ]
    }
   ],
   "source": [
    "#8. Generate a random sample of size 1000 from a Poisson distribution with mean 5 and calculate the sample mean and variance.\n",
    "\n",
    "#Ans\n",
    "\n",
    "import numpy as np\n",
    "np.random.seed(42) # set random seed for reproducibility\n",
    "sample = np.random.poisson(lam=5, size=1000) # generate random sample of size 1000 from Poisson distribution with mean 5\n",
    "sample_mean = np.mean(sample)\n",
    "sample_var = np.var(sample)\n",
    "print(\"Sample mean:\", sample_mean)\n",
    "print(\"Sample variance:\", sample_var)"
   ]
  },
  {
   "cell_type": "code",
   "execution_count": 3,
   "id": "f510d6d1-a709-4f8b-ace6-fad2c909e867",
   "metadata": {},
   "outputs": [],
   "source": [
    "#9. How mean and variance are related in Binomial distribution and Poisson distribution?\n",
    "\n",
    "#Ans\n",
    "\n",
    "#In the binomial distribution and Poisson distribution, the mean and variance are related as follows:\n",
    "\n",
    "#1 - Binomial distribution: If X has a binomial distribution with parameters n and p, then the mean (or expected value) of X is given by μ = np and the variance is given by σ^2 = np(1-p). This implies that the variance is a function of both the sample size and the probability of success.\n",
    "\n",
    "#2 - Poisson distribution: If X has a Poisson distribution with parameter λ, then the mean (or expected value) of X is given by μ = λ and the variance is also given by σ^2 = λ. This implies that the variance is equal to the mean in the case of a Poisson distribution.\n",
    "\n",
    "#The binomial distribution, the variance depends on both the sample size and the probability of success, while in the Poisson distribution, the variance is equal to the mean. This makes the Poisson distribution particularly useful for modeling situations where the variance is approximately equal to the mean, such as in rare events or in situations where the sample size is very large."
   ]
  },
  {
   "cell_type": "code",
   "execution_count": 4,
   "id": "31e43401-ddf2-4655-becf-9366e74ebbcb",
   "metadata": {},
   "outputs": [],
   "source": [
    "#10. In normal distribution with respect to mean position, where does the least frequent data appear?\n",
    "\n",
    "#Ans\n",
    "\n",
    "#In a normal distribution, the least frequent data appears in the tails of the distribution, farthest away from the mean. Specifically, data points that are more than 2 or 3 standard deviations away from the mean are considered outliers or extreme values, and they occur with very low frequencies.\n",
    "\n",
    "#In a standard normal distribution (a normal distribution with a mean of 0 and a standard deviation of 1), data points that are more than 2 standard deviations away from the mean occur with a frequency of approximately 5%, and data points that are more than 3 standard deviations away from the mean occur with a frequency of approximately 0.3%.\n",
    "\n",
    "#In a normal distribution with a non-zero mean, the tails are shifted to the left or right depending on the sign of the mean, but the basic shape of the distribution remains the same. So, the least frequent data points in a normal distribution are those that are farthest away from the mean, in the tails of the distribution."
   ]
  },
  {
   "cell_type": "code",
   "execution_count": null,
   "id": "57234f64-84b2-4b10-92b1-a60afcb4b082",
   "metadata": {},
   "outputs": [],
   "source": []
  }
 ],
 "metadata": {
  "kernelspec": {
   "display_name": "Python 3 (ipykernel)",
   "language": "python",
   "name": "python3"
  },
  "language_info": {
   "codemirror_mode": {
    "name": "ipython",
    "version": 3
   },
   "file_extension": ".py",
   "mimetype": "text/x-python",
   "name": "python",
   "nbconvert_exporter": "python",
   "pygments_lexer": "ipython3",
   "version": "3.10.8"
  }
 },
 "nbformat": 4,
 "nbformat_minor": 5
}
